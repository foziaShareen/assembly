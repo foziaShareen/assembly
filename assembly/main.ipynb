{
 "cells": [
  {
   "cell_type": "markdown",
   "metadata": {},
   "source": []
  },
  {
   "cell_type": "markdown",
   "metadata": {},
   "source": [
    "<div className=\"alert alert-block alert-warning\">\n",
    "<p></p>\n",
    "<img src=\"./images/IMG-20250208-WA0002.jpg\"/>\n",
    "</div>"
   ]
  },
  {
   "cell_type": "markdown",
   "metadata": {},
   "source": [
    "<div className=\"alert alert-block alert-warning\">\n",
    "<p></p>\n",
    "<img src=\"./images/IMG-20250208-WA0003.jpg\"/>\n",
    "</div>"
   ]
  },
  {
   "cell_type": "markdown",
   "metadata": {},
   "source": [
    "<div className=\"alert alert-block alert-warning\">\n",
    "<p></p>\n",
    "<img src=\"./images/IMG-20250208-WA0004.jpg\"/>\n",
    "</div>"
   ]
  },
  {
   "cell_type": "markdown",
   "metadata": {},
   "source": [
    "<div className=\"alert alert-block alert-warning\">\n",
    "<p></p>\n",
    "<img src=\"./images/IMG-20250208-WA0005.jpg\"/>\n",
    "</div>"
   ]
  },
  {
   "cell_type": "markdown",
   "metadata": {},
   "source": [
    "<div className=\"alert alert-block alert-warning\">\n",
    "<p></p>\n",
    "<img src=\"./images/IMG-20250208-WA0006.jpg\"/>\n",
    "</div>"
   ]
  },
  {
   "cell_type": "markdown",
   "metadata": {},
   "source": [
    "<div className=\"alert alert-block alert-warning\">\n",
    "<p></p>\n",
    "<img src=\"./images/IMG-20250208-WA0007.jpg\"/>\n",
    "</div>"
   ]
  },
  {
   "cell_type": "markdown",
   "metadata": {},
   "source": [
    "<div className=\"alert alert-block alert-warning\">\n",
    "<p></p>\n",
    "<img src=\"./images/IMG-20250208-WA0008.jpg\"/>\n",
    "</div>"
   ]
  },
  {
   "cell_type": "markdown",
   "metadata": {},
   "source": [
    "<div className=\"alert alert-block alert-warning\">\n",
    "<p></p>\n",
    "<img src=\"./images/IMG-20250208-WA0009.jpg\"/>\n",
    "</div>"
   ]
  },
  {
   "cell_type": "markdown",
   "metadata": {},
   "source": [
    "<div className=\"alert alert-block alert-warning\">\n",
    "<p></p>\n",
    "<img src=\"./images/IMG-20250208-WA0010.jpg\"/>\n",
    "</div>"
   ]
  },
  {
   "cell_type": "markdown",
   "metadata": {},
   "source": [
    "<div className=\"alert alert-block alert-warning\">\n",
    "<p></p>\n",
    "<img src=\"./images/IMG-20250208-WA00011.jpg\"/>\n",
    "</div>"
   ]
  },
  {
   "cell_type": "markdown",
   "metadata": {},
   "source": [
    "<div className=\"alert alert-block alert-warning\">\n",
    "<p></p>\n",
    "<img src=\"./images/IMG-20250208-WA0012.jpg\"/>\n",
    "</div>"
   ]
  },
  {
   "cell_type": "markdown",
   "metadata": {},
   "source": [
    "<div className=\"alert alert-block alert-warning\">\n",
    "<p></p>\n",
    "<img src=\"./images/IMG-20250208-WA0013.jpg\"/>\n",
    "</div>"
   ]
  },
  {
   "cell_type": "markdown",
   "metadata": {},
   "source": [
    "<div className=\"alert alert-block alert-warning\">\n",
    "<p></p>\n",
    "<img src=\"./images/IMG-20250208-WA0014.jpg\"/>\n",
    "</div>"
   ]
  },
  {
   "cell_type": "markdown",
   "metadata": {},
   "source": [
    "<div className=\"alert alert-block alert-warning\">\n",
    "<p></p>\n",
    "<img src=\"./images/IMG-20250208-WA0015.jpg\"/>\n",
    "</div>"
   ]
  },
  {
   "cell_type": "markdown",
   "metadata": {},
   "source": [
    "<div className=\"alert alert-block alert-warning\">\n",
    "<p></p>\n",
    "<img src=\"./images/IMG-20250208-WA0016.jpg\"/>\n",
    "</div>"
   ]
  }
 ],
 "metadata": {
  "language_info": {
   "name": "python"
  }
 },
 "nbformat": 4,
 "nbformat_minor": 2
}
